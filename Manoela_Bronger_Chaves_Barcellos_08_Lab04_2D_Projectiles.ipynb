{
  "nbformat": 4,
  "nbformat_minor": 0,
  "metadata": {
    "colab": {
      "provenance": [],
      "include_colab_link": true
    },
    "kernelspec": {
      "name": "python3",
      "display_name": "Python 3"
    },
    "language_info": {
      "name": "python"
    }
  },
  "cells": [
    {
      "cell_type": "markdown",
      "metadata": {
        "id": "view-in-github",
        "colab_type": "text"
      },
      "source": [
        "<a href=\"https://colab.research.google.com/github/ManuBarcellos/computational_physics/blob/main/Manoela_Bronger_Chaves_Barcellos_08_Lab04_2D_Projectiles.ipynb\" target=\"_parent\"><img src=\"https://colab.research.google.com/assets/colab-badge.svg\" alt=\"Open In Colab\"/></a>"
      ]
    },
    {
      "cell_type": "markdown",
      "source": [
        "# Expectations for All Notebooks\n",
        "* Be sure to read instructions carefully and answer all questions.\n",
        "* Use formatted printing and descriptive print statements\n",
        "* You must include comment strings for all functions\n",
        "* ALL PLOTS NEED LABELS ON X AND Y AXES\n",
        "* If more than one data set is plotted, you must include a legend.\n",
        "* Plot discrete data with points rather than a line.\n",
        "```python\n",
        "plt.plot(x, y, 'bs')\n",
        "```\n",
        "or\n",
        "```python\n",
        "plt.scatter(x,y)\n",
        "```"
      ],
      "metadata": {
        "id": "iPWD3QrSPAIP"
      }
    },
    {
      "cell_type": "markdown",
      "source": [
        "# Lab 4: Two-Dimensional Motion with Air Resistance\n",
        "\n",
        "*Written by Rose Finn*\n",
        "\n",
        "*Adapted from Giordano and Nakanishi, [Computational Physics](https://www.physics.purdue.edu/~hisao/book/), Chapter 2*\n",
        "\n",
        "# Overview\n",
        "\n",
        "The goal of this lab is to use the **Euler method** to model system that are changing with time.  If we can describe how the system changes with time, then we can determine how the system changes by stepping it forward in time using  tiny intervals of time.  This is the basic idea behind the Euler method."
      ],
      "metadata": {
        "id": "dXQCRRvekktg"
      }
    },
    {
      "cell_type": "code",
      "source": [
        "# import numpy and pyplot here\n",
        "import numpy as np\n",
        "from matplotlib import pyplot as plt"
      ],
      "metadata": {
        "id": "DhigXHbty-Oc"
      },
      "execution_count": null,
      "outputs": []
    },
    {
      "cell_type": "markdown",
      "source": [
        "# Function Warm Up\n",
        "\n",
        "(5 points)\n",
        "\n",
        "Before starting the lab, we will do one problem to keep building our function-writing skills.\n",
        "\n",
        "**The problem**: Write a function that calculates your course grade according to the following weights:\n",
        "\n",
        "| Category | Weight |\n",
        "|-----| -----|\n",
        "|Homework, Activities, and Labs |35%|\n",
        "| Quizzes |15%|\n",
        "|Midterm Project and Exam | 20%|\n",
        "|Final Project | 10%|\n",
        "|Final Exam |20%|\n",
        "\n",
        "\n",
        "\n",
        "\n",
        "\n",
        "Function requirements:\n",
        "* input\n",
        "  * list/array of grades\n",
        "  * weights for each catagory\n",
        "* return\n",
        "  * course grade\n",
        "\n",
        "Be sure to include a descriptive comment string at the beginning of your function.\n"
      ],
      "metadata": {
        "id": "PEwzUWrOYKp8"
      }
    },
    {
      "cell_type": "code",
      "source": [
        "# your function here\n",
        "def func(grades, weight):\n",
        "  '''This function takes a list of grades and the weight for each category, and return the course grade'''\n",
        "  cat1 = grades[0]*weight[0]\n",
        "  cat2 = grades[1]*weight[1]\n",
        "  cat3 = grades[2]*weight[2]\n",
        "  cat4 = grades[3]*weight[3]\n",
        "  cat5 = grades[4]*weight[4]\n",
        "  fgrade = cat1 + cat2 + cat3 + cat4 + cat5\n",
        "\n",
        "  return fgrade"
      ],
      "metadata": {
        "id": "8bmRFkisYJ2y"
      },
      "execution_count": null,
      "outputs": []
    },
    {
      "cell_type": "code",
      "source": [
        "# create a list of grades\n",
        "grades = [95, 90, 85, 97, 80]\n",
        "# create the list of weights\n",
        "weight = [0.35, 0.15, 0.2, 0.1, 0.2]\n",
        "# Feed the following array into your function\n",
        "g = func(grades, weight)\n",
        "\n",
        "# print out your course grade\n",
        "# use a formatted print statement to print two decimal places\n",
        "print(f'Your final course grade is: {g:.2f}%')"
      ],
      "metadata": {
        "id": "v0E8n2wtyej1",
        "colab": {
          "base_uri": "https://localhost:8080/"
        },
        "outputId": "c402a8ad-c22d-47b3-a0fb-8a071cb7bcfe"
      },
      "execution_count": null,
      "outputs": [
        {
          "output_type": "stream",
          "name": "stdout",
          "text": [
            "Your final course grade is: 89.45%\n"
          ]
        }
      ]
    },
    {
      "cell_type": "markdown",
      "source": [
        "# Projectile Motion\n",
        "\n",
        "Now let's try to apply the Euler to 2D projectile motion with air resistance.\n",
        "\n",
        "The Euler method is a bit more complex here than with radioactive decay and the bicyle rider, because we will need to keep track of both the position and velocity versus time in both the x and y direction.\n",
        "\n",
        "```python\n",
        "x[i] = x[i-1] + vx[i-1]*dt\n",
        "vx[i] = vx[i-1] + ax(input_parameters)*dt\n",
        "\n",
        "y[i] = y[i-1] + vy[i-1]*dt\n",
        "vy[i] = vy[i-1] + ay(input_parameters)*dt\n",
        "```\n",
        "\n",
        "    "
      ],
      "metadata": {
        "id": "59dLM9aDXsvl"
      }
    },
    {
      "cell_type": "code",
      "source": [
        "# enter the mass, radius of cannon ball\n",
        "m = 19 # what is a good value for the mass of a cannon ball\n",
        "r = 0.085 #radius of cannon ball\n",
        "\n",
        "# enter acceleration\n",
        "g = -9.8\n",
        "\n",
        "# enter initial conditions\n",
        "theta0_deg = 30 # degrees\n",
        "v0 = 700. #m/s for a cannon ball\n",
        "# convert angle to radians - numpy functions need angle in radians!\n",
        "theta0 = np.radians(theta0_deg)\n",
        "y0 = 100\n",
        "x0 = 0\n",
        "\n",
        "# calculate the initial x and y velocities\n",
        "v0x = v0 * np.cos(theta0)\n",
        "v0y = v0 * np.sin(theta0)\n",
        "\n",
        "# enter time step dt\n",
        "dt = 1\n"
      ],
      "metadata": {
        "id": "vU4-o4FUXs-D"
      },
      "execution_count": null,
      "outputs": []
    },
    {
      "cell_type": "markdown",
      "source": [
        "### Air Resistance\n",
        "\n",
        "(2 points)\n",
        "\n",
        "Determine the coefficient of air resistance $B_2$ for the cannon ball, where\n",
        " $$B_2 = \\frac{1}{2} C \\rho A$$.\n",
        "* C = constant.  Set this equal to 0.5\n",
        "* rho is the density of air.  Set this to 1.225 kg/m$^3$ for the density of air at sea level.\n",
        "* A is the cross-sectional area of the canonball - you need to figure this part out!"
      ],
      "metadata": {
        "id": "IpP3KRgFfaSi"
      }
    },
    {
      "cell_type": "code",
      "source": [
        "# calculate B2 here and save it as myB2\n",
        "C = 0.5\n",
        "rho = 1.225\n",
        "A = np.pi*r**2\n",
        "myB2 = C * rho * A / 2\n"
      ],
      "metadata": {
        "id": "SL6kQbuvfZy1"
      },
      "execution_count": null,
      "outputs": []
    },
    {
      "cell_type": "markdown",
      "source": [
        "### Write your function to calculate the y acceleration\n",
        "\n",
        "(5 points)\n",
        "\n",
        "The program should have the following:\n",
        "* input\n",
        "  * v = speed of object\n",
        "  * vy = velocity of object in the y direction\n",
        "  * m = mass of object\n",
        "  * B2 = coefficient of quadratic drag term.  This should be an optional argument that has a default value of zero.\n",
        "* calculate the acceleration due to air resistance\n",
        "  * You need to keep track of the direction of velocity and make sure the drag force is always opposite of velocity.  \n",
        "  * To do so, we will use the approach shown in Giordano & Nakanashi Equation 2.19, where:\n",
        "  $$ a_{drag,y} = -\\frac{B_2}{m} v ~v_y.$$\n",
        "  Here, $v$ is the speed or magnitude of the velocity, and $v_y$ is the velocity in the y direction.  \n",
        "  \n",
        "* add in the effect of gravity in the vertical direction.\n",
        "\n",
        "* return\n",
        "  * ay = acceleration in the y direction"
      ],
      "metadata": {
        "id": "dmv9y7YwgXjF"
      }
    },
    {
      "cell_type": "code",
      "source": [
        "# write your function to calculate the vertical acceleration\n",
        "def v_a(v, vy, m, B2):\n",
        "  '''This function takes as input the speed of the cannon, the velocity in the y direction, the mass, and the coefficient of quadratic drag term,\n",
        "  and it returns the acceleration in the y direction'''\n",
        "  ay = g - (B2/m)*v*vy\n",
        "\n",
        "  return ay\n"
      ],
      "metadata": {
        "id": "pcgpWGdseyKg"
      },
      "execution_count": null,
      "outputs": []
    },
    {
      "cell_type": "markdown",
      "source": [
        "### Write the function for the horizontal acceleration\n",
        "\n",
        "(3 points)\n",
        "\n",
        "This should be similar to the function for the vertical acceleration, except there is no gravity acting in the horizontal direction."
      ],
      "metadata": {
        "id": "dFq9RAMGlzba"
      }
    },
    {
      "cell_type": "code",
      "source": [
        "# write your function to calculate the horizontal acceleration\n",
        "def h_a(v, vx, m, B2):\n",
        "  '''This function takes as input the speed of the cannon, the velocity in the x direction, the mass, and the coefficient of quadratic drag term,\n",
        "  and it returns the acceleration in the x direction'''\n",
        "  ax = -(B2/m)*v*vx\n",
        "  return ax\n",
        "\n"
      ],
      "metadata": {
        "id": "9NSJ___He3A_"
      },
      "execution_count": null,
      "outputs": []
    },
    {
      "cell_type": "markdown",
      "source": [
        "## When to stop the calculation?\n",
        "\n",
        "(5 points)\n",
        "\n",
        "* Our estimate of tmax is not going to work well here because of the influence of air resistance.\n",
        "* Therefore, we need another way to figure out when to stop the calculation.\n",
        "* Any ideas?  Write your thoughts here.\n",
        "\n",
        "YOUR ANSWER"
      ],
      "metadata": {
        "id": "SoV_EVIdfx10"
      }
    },
    {
      "cell_type": "markdown",
      "source": [
        "I think we should stop the calculation when y position equals 0, which means the cannon ball reaches the ground."
      ],
      "metadata": {
        "id": "AuAdymMUfh1b"
      }
    },
    {
      "cell_type": "code",
      "source": [
        "# write your calculate function to compute the Euler solution for position and velocity\n",
        "# NOTE: this function will initialize the x/y position and velocities as empty lists\n",
        "\n",
        "def calculate(x0, y0, v0x, v0y, dt, m, B2):\n",
        "  x = [x0]\n",
        "  y = [y0]\n",
        "  vx = [v0x]\n",
        "  vy = [v0y]\n",
        "  t = [0]\n",
        "  i = 1\n",
        "  while(y[i-1] >= 0):\n",
        "    x.append(x[i-1] + vx[i-1]*dt)\n",
        "    y.append(y[i-1] + vy[i-1]*dt)\n",
        "\n",
        "    v = np.sqrt(vx[i-1]**2 + vy[i-1]**2)\n",
        "\n",
        "    vx.append(vx[i-1] + h_a(v, vx[i-1], m, B2)*dt)\n",
        "    vy.append(vy[i-1] + v_a(v, vy[i-1], m, B2)*dt)\n",
        "    t.append(t[i-1] + dt)\n",
        "\n",
        "    i = i + 1\n",
        "\n",
        "  return x, y, vx, vy, t\n"
      ],
      "metadata": {
        "id": "MKDdLEiK_kC_"
      },
      "execution_count": null,
      "outputs": []
    },
    {
      "cell_type": "markdown",
      "source": [
        "### Running Your Code\n",
        "\n",
        "(5 points)"
      ],
      "metadata": {
        "id": "FId7HjTjgWEG"
      }
    },
    {
      "cell_type": "code",
      "source": [
        "# Call your function to run the calculation\n",
        "x_pos, y_pos, v_x, v_y, time = calculate(x0, y0, v0x, v0y, dt, m, myB2)"
      ],
      "metadata": {
        "id": "ypaJgYBcgXHw"
      },
      "execution_count": null,
      "outputs": []
    },
    {
      "cell_type": "code",
      "source": [],
      "metadata": {
        "id": "QkwO-YeKfSZj"
      },
      "execution_count": null,
      "outputs": []
    },
    {
      "cell_type": "markdown",
      "source": [
        "### Plot Your Results\n",
        "\n",
        "(5 points)"
      ],
      "metadata": {
        "id": "jBzd56WWgWCo"
      }
    },
    {
      "cell_type": "code",
      "source": [
        "# plot your results\n",
        "plt.plot(x_pos, y_pos, 'mo')\n",
        "plt.title('Cannon ball trajectory')\n",
        "plt.xlabel('X position')\n",
        "plt.ylabel('Y position')"
      ],
      "metadata": {
        "id": "ugZglvIgARPv",
        "colab": {
          "base_uri": "https://localhost:8080/",
          "height": 489
        },
        "outputId": "7f1f1b17-2ae8-4d13-9e27-d0e7e978e710"
      },
      "execution_count": null,
      "outputs": [
        {
          "output_type": "execute_result",
          "data": {
            "text/plain": [
              "Text(0, 0.5, 'Y position')"
            ]
          },
          "metadata": {},
          "execution_count": 21
        },
        {
          "output_type": "display_data",
          "data": {
            "text/plain": [
              "<Figure size 640x480 with 1 Axes>"
            ],
            "image/png": "[encoded data removed]"
          },
          "metadata": {}
        }
      ]
    },
    {
      "cell_type": "markdown",
      "source": [
        "# Exploring Range\n",
        "\n",
        "(5 points)\n",
        "\n",
        "* Make a graph of y vs x for different starting angles\n",
        "\n",
        "* use the following values, and make a loop to run through the different values of theta\n",
        "```\n",
        "theta0_deg = np.arange(15,90,15)\n",
        "```"
      ],
      "metadata": {
        "id": "xlwO1KETetO5"
      }
    },
    {
      "cell_type": "code",
      "source": [
        "#\n",
        "theta0_deg = np.arange(15,90,15)\n",
        "theta0 = np.radians(theta0_deg)\n",
        "for i in theta0:\n",
        "  v0x = v0 * np.cos(i)\n",
        "  v0y = v0 * np.sin(i)\n",
        "  x_pos, y_pos, v_x, v_y, time = calculate(x0, y0, v0x, v0y, dt, m, myB2)\n",
        "  plt.scatter(x_pos, y_pos, label = f'Angle of: {np.degrees(i):.0f} degrees')\n",
        "  plt.xlabel('X position')\n",
        "  plt.ylabel('Y position')\n",
        "  plt.legend()\n",
        "  plt.title('Cannon ball trajectory with different lauching angle')\n",
        "\n",
        "\n"
      ],
      "metadata": {
        "id": "SRwWQ7Z9es0O",
        "colab": {
          "base_uri": "https://localhost:8080/",
          "height": 472
        },
        "outputId": "7c88550b-2162-4524-af08-dde1a2c204dd"
      },
      "execution_count": null,
      "outputs": [
        {
          "output_type": "display_data",
          "data": {
            "text/plain": [
              "<Figure size 640x480 with 1 Axes>"
            ],
            "image/png": "[encoded data removed]"
          },
          "metadata": {}
        }
      ]
    },
    {
      "cell_type": "markdown",
      "source": [
        "# Summary Questions\n",
        "\n",
        "Answer these questions in the lab, and you should also mention them in your wiki summary.\n",
        "* How does the range vary with the initial angle of the projectile?\n",
        "\n",
        "\n",
        "* Compare the range values for with and without air resistance."
      ],
      "metadata": {
        "id": "51QVvGufoEj9"
      }
    },
    {
      "cell_type": "markdown",
      "source": [
        "With air resistance, around 30 degrees, we have the maximum range. With 15 degrees and 45 degrees, we have the same range (although 15 goes lower and 45 goes higher), and the greater the angle is (above 30), we have less range. Without air resistance, the range follows a symmetric pattern, reaching a maximum at 45 degrees."
      ],
      "metadata": {
        "id": "p8Uucsd-8U8O"
      }
    },
    {
      "cell_type": "code",
      "source": [],
      "metadata": {
        "id": "ppOBS4_AoKRV"
      },
      "execution_count": null,
      "outputs": []
    }
  ]
}